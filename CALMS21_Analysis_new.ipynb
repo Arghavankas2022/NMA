{
  "cells": [
    {
      "cell_type": "markdown",
      "metadata": {
        "id": "view-in-github",
        "colab_type": "text"
      },
      "source": [
        "<a href=\"https://colab.research.google.com/github/Arghavankas2022/NMA/blob/main/CALMS21_Analysis_new.ipynb\" target=\"_parent\"><img src=\"https://colab.research.google.com/assets/colab-badge.svg\" alt=\"Open In Colab\"/></a>"
      ]
    },
    {
      "cell_type": "markdown",
      "metadata": {
        "id": "o2uTjQq5oVBR"
      },
      "source": [
        "# Importing Modules and Data"
      ]
    },
    {
      "cell_type": "code",
      "execution_count": null,
      "metadata": {
        "id": "UvxQ8dtjoNqi"
      },
      "outputs": [],
      "source": [
        "## Importing necessary modules\n",
        "\n",
        "import os\n",
        "import json\n",
        "import numpy as np\n",
        "import pandas as pd\n",
        "import matplotlib.pyplot as plt"
      ]
    },
    {
      "cell_type": "code",
      "execution_count": null,
      "metadata": {
        "colab": {
          "base_uri": "https://localhost:8080/"
        },
        "id": "ypMJSJ29oheH",
        "outputId": "8c3e5b27-73fd-423e-e46d-506da0625004"
      },
      "outputs": [
        {
          "name": "stdout",
          "output_type": "stream",
          "text": [
            "Data have already been downloaded!!!\n"
          ]
        }
      ],
      "source": [
        "# Download and unzip the data\n",
        "import os, requests, zipfile\n",
        "\n",
        "fname = 'task1_classic_classification.zip'\n",
        "url = \"https://data.caltech.edu/records/s0vdx-0k302/files/task1_classic_classification.zip?download=1\"\n",
        "\n",
        "if not os.path.isfile(fname):\n",
        "  try:\n",
        "    r = requests.get(url)\n",
        "  except requests.ConnectionError:\n",
        "    print(\"!!! Failed to download data !!!\")\n",
        "  else:\n",
        "    if r.status_code != requests.codes.ok:\n",
        "      print(\"!!! Failed to download data !!!\")\n",
        "    else:\n",
        "      with open(fname, \"wb\") as fid:\n",
        "        fid.write(r.content)\n",
        "else:\n",
        "  print('Data have already been downloaded!!!')\n",
        "\n",
        "if not os.path.exists('task1_classic_classification'):\n",
        "  # Unzip the file\n",
        "  with zipfile.ZipFile(fname, 'r') as zip_ref:\n",
        "    zip_ref.extractall('.')\n",
        "\n",
        "\n",
        "# Download the script\n",
        "fname = 'calms21_convert_to_npy.py'\n",
        "url = \"https://data.caltech.edu/records/s0vdx-0k302/files/calms21_convert_to_npy.py?download=1\"\n",
        "\n",
        "if not os.path.isfile(fname):\n",
        "  try:\n",
        "    r = requests.get(url)\n",
        "  except requests.ConnectionError:\n",
        "    print(\"!!! Failed to download data !!!\")\n",
        "  else:\n",
        "    if r.status_code != requests.codes.ok:\n",
        "      print(\"!!! Failed to download data !!!\")\n",
        "    else:\n",
        "      with open(fname, \"wb\") as fid:\n",
        "        fid.write(r.content)"
      ]
    },
    {
      "cell_type": "code",
      "execution_count": null,
      "metadata": {
        "colab": {
          "base_uri": "https://localhost:8080/"
        },
        "id": "_y3fCKiNQ7Ej",
        "outputId": "9883a2f9-20e2-46dd-9632-957830353e26"
      },
      "outputs": [
        {
          "name": "stdout",
          "output_type": "stream",
          "text": [
            "Saving ./calms21_task1_test\n"
          ]
        }
      ],
      "source": [
        "# Save the data\n",
        "!python calms21_convert_to_npy.py  --input_directory '.' --output_directory '.'"
      ]
    },
    {
      "cell_type": "code",
      "execution_count": null,
      "metadata": {
        "id": "yOlbAVM6RN9B"
      },
      "outputs": [],
      "source": [
        "# Defining and running the load data function\n",
        "def load_task1_data(data_path):\n",
        "  \"\"\"\n",
        "  Load data for task 1:\n",
        "      The vocaubulary tells you how to map behavior names to class ids;\n",
        "      it is the same for all sequences in this dataset.\n",
        "  \"\"\"\n",
        "  data_dict = np.load(data_path, allow_pickle=True).item()\n",
        "  dataset = data_dict['annotator-id_0']\n",
        "  # Get any sequence key.\n",
        "  sequence_id = list(data_dict['annotator-id_0'].keys())[0]\n",
        "  vocabulary = data_dict['annotator-id_0'][sequence_id]['metadata']['vocab']\n",
        "  return dataset, vocabulary\n",
        "\n",
        "training_data, vocab = load_task1_data('./calms21_task1_train.npy')\n",
        "test_data, _ = load_task1_data('./calms21_task1_test.npy')"
      ]
    },
    {
      "cell_type": "markdown",
      "metadata": {
        "id": "Y8kHBh2FRaCO"
      },
      "source": [
        "# Data Wrangling"
      ]
    },
    {
      "cell_type": "code",
      "execution_count": null,
      "metadata": {
        "id": "w_3kDBM3RhBZ"
      },
      "outputs": [],
      "source": [
        "# Filter datasets to those >8min\n",
        "\n",
        "def filter_sequences_by_frame_count(dataset, min_frame_count):\n",
        "    filtered_dataset = {}\n",
        "    for k, v in dataset.items():\n",
        "        if len(v['annotations']) > min_frame_count:\n",
        "            filtered_dataset[k] = {\n",
        "                'annotations': list(v['annotations']),\n",
        "                'keypoints': v['keypoints'],\n",
        "                'scores': list(v['scores']),\n",
        "                'metadata': list(v['metadata'])\n",
        "                            }\n",
        "    return filtered_dataset\n",
        "\n",
        "frame_count = 10000\n",
        "filter_data = filter_sequences_by_frame_count(training_data, frame_count)"
      ]
    },
    {
      "cell_type": "code",
      "execution_count": null,
      "metadata": {
        "id": "_Ur35eoFTbsb"
      },
      "outputs": [],
      "source": [
        "# Reduce datasets to length 8min\n",
        "\n",
        "for key in filter_data:\n",
        "    filter_data[key]['annotations'] = filter_data[key]['annotations'][:frame_count]\n",
        "    filter_data[key]['keypoints'] = filter_data[key]['keypoints'][:frame_count]"
      ]
    },
    {
      "cell_type": "code",
      "execution_count": null,
      "metadata": {
        "id": "ewPY1qBRLXdj"
      },
      "outputs": [],
      "source": [
        "# Recode aggression to 1 and any other behaviour to 0\n",
        "\n",
        "def recode_data(dataset, behaviour):\n",
        "    recode = {}\n",
        "\n",
        "    # Iterate through each key in the dataset\n",
        "    for key in dataset:\n",
        "        recode[key] = []\n",
        "        # Iterate through each annotation for the current key\n",
        "        for item in dataset[key]['annotations']:\n",
        "            if item == behaviour:\n",
        "                recode[key].append(1)\n",
        "            else:\n",
        "                recode[key].append(0)\n",
        "\n",
        "    return recode\n",
        "\n",
        "aggression = recode_data(filter_data, 0)\n",
        "investigation = recode_data(filter_data, 1)\n",
        "mount = recode_data(filter_data, 2)\n",
        "other = recode_data(filter_data, 3)"
      ]
    },
    {
      "cell_type": "markdown",
      "metadata": {
        "id": "FVbdzx0lgiVQ"
      },
      "source": [
        "# Graphing Likelihood"
      ]
    },
    {
      "cell_type": "code",
      "execution_count": null,
      "metadata": {
        "id": "It35fPZ6gobn"
      },
      "outputs": [],
      "source": [
        "# Defining and running function which extracts the mean behaviour for each frame\n",
        "\n",
        "def mean_behaviour(dataset):\n",
        "\n",
        "    # Determine the maximum length of lists in the dictionary\n",
        "\n",
        "    # Initialize a list to hold sums and counts for each position\n",
        "    sums = [0] * frame_count\n",
        "    counts = [0] * frame_count\n",
        "\n",
        "    # Iterate through each list and update sums and counts\n",
        "    for lst in dataset.values():\n",
        "        for i, value in enumerate(lst):\n",
        "            sums[i] += value\n",
        "            counts[i] += 1\n",
        "\n",
        "    # Calculate the mean for each position\n",
        "    means = np.zeros(frame_count)\n",
        "    for i in range(frame_count):\n",
        "        means[i] = sums[i] / counts[i]\n",
        "\n",
        "    return means\n",
        "\n",
        "aggression_mean = mean_behaviour(aggression)\n",
        "investigation_mean = mean_behaviour(investigation)\n",
        "mount_mean = mean_behaviour(mount)"
      ]
    },
    {
      "cell_type": "code",
      "execution_count": null,
      "metadata": {
        "id": "d6wN_j1onbtb"
      },
      "outputs": [],
      "source": [
        "# Plotting the mean of each behaviour\n",
        "\n",
        "plt.figure()\n",
        "t = range(frame_count)\n",
        "\n",
        "ax1 = plt.subplot(3,1,1)\n",
        "plt.plot(t, aggression_mean)\n",
        "plt.ylabel('Aggression Probability')\n",
        "\n",
        "plt.subplot(3,1,2, sharex=ax1)\n",
        "plt.plot(t, investigation_mean)\n",
        "plt.ylabel('Investigation Probability')\n",
        "\n",
        "plt.subplot(3,1,3, sharex=ax1)\n",
        "plt.plot(t, mount_mean)\n",
        "plt.ylabel('Mount Probability')\n",
        "\n",
        "plt.tight_layout()"
      ]
    },
    {
      "cell_type": "markdown",
      "metadata": {
        "id": "-H2W9wevqq6H"
      },
      "source": [
        "# Calculating Features"
      ]
    },
    {
      "cell_type": "code",
      "execution_count": null,
      "metadata": {
        "id": "j1QWVxDrFdmv"
      },
      "outputs": [],
      "source": [
        "# Defining and running normalising function\n",
        "\n",
        "def normalize_data(orig_pose_dictionary, rotate=False):\n",
        "  for key in orig_pose_dictionary:\n",
        "    X = orig_pose_dictionary[key]['keypoints']\n",
        "    if rotate:\n",
        "      X = X.transpose((0, 1, 3, 2))  # last axis is x, y coordinates\n",
        "      X[..., 0] = X[..., 0]/1024\n",
        "      X[..., 1] = X[..., 1]/570\n",
        "    else:\n",
        "      X[:, :, 0, :] = X[:, :, 0, :] / 1024\n",
        "      X[: ,:, 1, :] = X[:, :, 1, :] / 570\n",
        "    orig_pose_dictionary[key]['keypoints'] = X\n",
        "  return orig_pose_dictionary\n",
        "\n",
        "normalize_data(filter_data)"
      ]
    },
    {
      "cell_type": "code",
      "execution_count": null,
      "metadata": {
        "colab": {
          "background_save": true
        },
        "id": "iD3a9I3QqzMZ"
      },
      "outputs": [],
      "source": [
        "# Calculating velocity\n",
        "\n",
        "def calculate_velocity(dataset, mouse):\n",
        "\n",
        "  velocity={}\n",
        "\n",
        "  for i in list(dataset.keys()):\n",
        "    keypoints = dataset[i]['keypoints']\n",
        "    velocity[i] = []\n",
        "\n",
        "    for j in range(len(keypoints)-1): ## We've iterated through each sequence. Now within each sequence\n",
        "\n",
        "      neck_x_1 = keypoints[j, mouse, 0, 3]\n",
        "      l_hip_x_1 = keypoints[j, mouse, 0,4]\n",
        "      r_hip_x_1 = keypoints[j, mouse, 0,5]\n",
        "      tail_x_1 = keypoints[j, mouse, 0, 6]\n",
        "\n",
        "      neck_y_1 = keypoints[j, mouse, 1, 3]\n",
        "      l_hip_y_1 = keypoints[j, mouse, 1,4]\n",
        "      r_hip_y_1 = keypoints[j, mouse, 1,5]\n",
        "      tail_y_1 = keypoints[j, mouse, 1, 6]\n",
        "\n",
        "      centroid_x_1 = (neck_x_1 + l_hip_x_1 + r_hip_x_1 + tail_x_1)/4\n",
        "      centroid_y_1 = (neck_y_1 + l_hip_y_1 + r_hip_y_1 + tail_y_1)/4\n",
        "\n",
        "      neck_x_2 = keypoints[j+1, mouse, 0, 3]\n",
        "      l_hip_x_2 = keypoints[j+1, mouse, 0,4]\n",
        "      r_hip_x_2 = keypoints[j+1, mouse, 0,5]\n",
        "      tail_x_2 = keypoints[j+1, mouse, 0, 6]\n",
        "\n",
        "      neck_y_2 = keypoints[j+1, mouse, 1, 3]\n",
        "      l_hip_y_2 = keypoints[j+1, mouse, 1,4]\n",
        "      r_hip_y_2 = keypoints[j+1, mouse, 1,5]\n",
        "      tail_y_2 = keypoints[j+1, mouse, 1, 6]\n",
        "\n",
        "      centroid_x_2 = (neck_x_2 + l_hip_x_2 + r_hip_x_2 + tail_x_2)/4\n",
        "      centroid_y_2 = (neck_y_2 + l_hip_y_2 + r_hip_y_2 + tail_y_2)/4\n",
        "\n",
        "      distance_x = np.abs(centroid_x_2 - centroid_x_1)\n",
        "      distance_y = np.abs(centroid_y_2 - centroid_y_1)\n",
        "\n",
        "      vel = (distance_x**2 + distance_y**2)**.5\n",
        "      velocity[i].append(vel)\n",
        "\n",
        "  return velocity\n",
        "\n",
        "mouse_1 = 0\n",
        "velocity = calculate_velocity(filter_data, mouse_1)"
      ]
    },
    {
      "cell_type": "code",
      "execution_count": null,
      "metadata": {
        "colab": {
          "background_save": true
        },
        "id": "Z0EJG7nq4fNt"
      },
      "outputs": [],
      "source": [
        "def mean_velocity(dataset):\n",
        "\n",
        "    # Determine the maximum length of lists in the dictionary\n",
        "\n",
        "    # Initialize a list to hold sums and counts for each position\n",
        "    sums = [0] * (9999)\n",
        "    counts = [0] * (9999)\n",
        "\n",
        "    # Iterate through each list and update sums and counts\n",
        "    for lst in dataset.values():\n",
        "        for i, value in enumerate(lst):\n",
        "            sums[i] += value\n",
        "            counts[i] += 1\n",
        "\n",
        "    # Calculate the mean for each position\n",
        "    means = np.zeros(frame_count)\n",
        "    for i in range(9999):\n",
        "        means[i+1] = sums[i] / counts[i]\n",
        "\n",
        "    return means\n",
        "\n",
        "av_vel = mean_velocity(velocity)"
      ]
    },
    {
      "cell_type": "code",
      "execution_count": null,
      "metadata": {
        "colab": {
          "background_save": true
        },
        "id": "xpQU0gXNIAT_",
        "outputId": "99db9d27-4665-4d3e-fd73-734cca2050a7"
      },
      "outputs": [
        {
          "ename": "ValueError",
          "evalue": "num must be an integer with 1 <= num <= 3, not 4",
          "output_type": "error",
          "traceback": [
            "\u001b[0;31m---------------------------------------------------------------------------\u001b[0m",
            "\u001b[0;31mValueError\u001b[0m                                Traceback (most recent call last)",
            "\u001b[0;32m<ipython-input-99-aa97e03fd5a8>\u001b[0m in \u001b[0;36m<cell line: 16>\u001b[0;34m()\u001b[0m\n\u001b[1;32m     14\u001b[0m \u001b[0mplt\u001b[0m\u001b[0;34m.\u001b[0m\u001b[0mylabel\u001b[0m\u001b[0;34m(\u001b[0m\u001b[0;34m'Mount Probability'\u001b[0m\u001b[0;34m)\u001b[0m\u001b[0;34m\u001b[0m\u001b[0;34m\u001b[0m\u001b[0m\n\u001b[1;32m     15\u001b[0m \u001b[0;34m\u001b[0m\u001b[0m\n\u001b[0;32m---> 16\u001b[0;31m \u001b[0mplt\u001b[0m\u001b[0;34m.\u001b[0m\u001b[0msubplot\u001b[0m\u001b[0;34m(\u001b[0m\u001b[0;36m3\u001b[0m\u001b[0;34m,\u001b[0m\u001b[0;36m1\u001b[0m\u001b[0;34m,\u001b[0m\u001b[0;36m4\u001b[0m\u001b[0;34m,\u001b[0m \u001b[0msharex\u001b[0m\u001b[0;34m=\u001b[0m\u001b[0max1\u001b[0m\u001b[0;34m)\u001b[0m\u001b[0;34m\u001b[0m\u001b[0;34m\u001b[0m\u001b[0m\n\u001b[0m\u001b[1;32m     17\u001b[0m \u001b[0mplt\u001b[0m\u001b[0;34m.\u001b[0m\u001b[0mplot\u001b[0m\u001b[0;34m(\u001b[0m\u001b[0mt\u001b[0m\u001b[0;34m,\u001b[0m \u001b[0mav_vel\u001b[0m\u001b[0;34m)\u001b[0m\u001b[0;34m\u001b[0m\u001b[0;34m\u001b[0m\u001b[0m\n\u001b[1;32m     18\u001b[0m \u001b[0mplt\u001b[0m\u001b[0;34m.\u001b[0m\u001b[0mylabel\u001b[0m\u001b[0;34m(\u001b[0m\u001b[0;34m'Average Velocity'\u001b[0m\u001b[0;34m)\u001b[0m\u001b[0;34m\u001b[0m\u001b[0;34m\u001b[0m\u001b[0m\n",
            "\u001b[0;32m/usr/local/lib/python3.10/dist-packages/matplotlib/pyplot.py\u001b[0m in \u001b[0;36msubplot\u001b[0;34m(*args, **kwargs)\u001b[0m\n\u001b[1;32m   1321\u001b[0m \u001b[0;34m\u001b[0m\u001b[0m\n\u001b[1;32m   1322\u001b[0m     \u001b[0;31m# First, search for an existing subplot with a matching spec.\u001b[0m\u001b[0;34m\u001b[0m\u001b[0;34m\u001b[0m\u001b[0m\n\u001b[0;32m-> 1323\u001b[0;31m     \u001b[0mkey\u001b[0m \u001b[0;34m=\u001b[0m \u001b[0mSubplotSpec\u001b[0m\u001b[0;34m.\u001b[0m\u001b[0m_from_subplot_args\u001b[0m\u001b[0;34m(\u001b[0m\u001b[0mfig\u001b[0m\u001b[0;34m,\u001b[0m \u001b[0margs\u001b[0m\u001b[0;34m)\u001b[0m\u001b[0;34m\u001b[0m\u001b[0;34m\u001b[0m\u001b[0m\n\u001b[0m\u001b[1;32m   1324\u001b[0m \u001b[0;34m\u001b[0m\u001b[0m\n\u001b[1;32m   1325\u001b[0m     \u001b[0;32mfor\u001b[0m \u001b[0max\u001b[0m \u001b[0;32min\u001b[0m \u001b[0mfig\u001b[0m\u001b[0;34m.\u001b[0m\u001b[0maxes\u001b[0m\u001b[0;34m:\u001b[0m\u001b[0;34m\u001b[0m\u001b[0;34m\u001b[0m\u001b[0m\n",
            "\u001b[0;32m/usr/local/lib/python3.10/dist-packages/matplotlib/gridspec.py\u001b[0m in \u001b[0;36m_from_subplot_args\u001b[0;34m(figure, args)\u001b[0m\n\u001b[1;32m    596\u001b[0m         \u001b[0;32melse\u001b[0m\u001b[0;34m:\u001b[0m\u001b[0;34m\u001b[0m\u001b[0;34m\u001b[0m\u001b[0m\n\u001b[1;32m    597\u001b[0m             \u001b[0;32mif\u001b[0m \u001b[0;32mnot\u001b[0m \u001b[0misinstance\u001b[0m\u001b[0;34m(\u001b[0m\u001b[0mnum\u001b[0m\u001b[0;34m,\u001b[0m \u001b[0mIntegral\u001b[0m\u001b[0;34m)\u001b[0m \u001b[0;32mor\u001b[0m \u001b[0mnum\u001b[0m \u001b[0;34m<\u001b[0m \u001b[0;36m1\u001b[0m \u001b[0;32mor\u001b[0m \u001b[0mnum\u001b[0m \u001b[0;34m>\u001b[0m \u001b[0mrows\u001b[0m\u001b[0;34m*\u001b[0m\u001b[0mcols\u001b[0m\u001b[0;34m:\u001b[0m\u001b[0;34m\u001b[0m\u001b[0;34m\u001b[0m\u001b[0m\n\u001b[0;32m--> 598\u001b[0;31m                 raise ValueError(\n\u001b[0m\u001b[1;32m    599\u001b[0m                     \u001b[0;34mf\"num must be an integer with 1 <= num <= {rows*cols}, \"\u001b[0m\u001b[0;34m\u001b[0m\u001b[0;34m\u001b[0m\u001b[0m\n\u001b[1;32m    600\u001b[0m                     \u001b[0;34mf\"not {num!r}\"\u001b[0m\u001b[0;34m\u001b[0m\u001b[0;34m\u001b[0m\u001b[0m\n",
            "\u001b[0;31mValueError\u001b[0m: num must be an integer with 1 <= num <= 3, not 4"
          ]
        },
        {
          "data": {
            "image/png": "[encoded data removed]",
            "text/plain": [
              "<Figure size 640x480 with 3 Axes>"
            ]
          },
          "metadata": {},
          "output_type": "display_data"
        }
      ],
      "source": [
        "plt.figure()\n",
        "t = range(frame_count)\n",
        "\n",
        "ax1 = plt.subplot(3,1,1)\n",
        "plt.plot(t, aggression_mean)\n",
        "plt.ylabel('Aggression Probability')\n",
        "\n",
        "plt.subplot(3,1,2, sharex=ax1)\n",
        "plt.plot(t, investigation_mean)\n",
        "plt.ylabel('Investigation Probability')\n",
        "\n",
        "plt.subplot(3,1,3, sharex=ax1)\n",
        "plt.plot(t, mount_mean)\n",
        "plt.ylabel('Mount Probability')\n",
        "\n",
        "plt.subplot(3,1,4, sharex=ax1)\n",
        "plt.plot(t, av_vel)\n",
        "plt.ylabel('Average Velocity')\n",
        "\n",
        "plt.tight_layout()"
      ]
    }
  ],
  "metadata": {
    "colab": {
      "provenance": [],
      "include_colab_link": true
    },
    "kernelspec": {
      "display_name": "Python 3",
      "name": "python3"
    },
    "language_info": {
      "name": "python"
    }
  },
  "nbformat": 4,
  "nbformat_minor": 0
}